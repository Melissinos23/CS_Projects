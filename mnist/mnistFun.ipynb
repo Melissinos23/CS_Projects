{
 "cells": [
  {
   "cell_type": "code",
   "execution_count": 37,
   "metadata": {},
   "outputs": [],
   "source": [
    "import numpy as np\n",
    "import matplotlib.pyplot as plt\n",
    "plt.rcParams['figure.figsize'] = (7,7) # Make the figures a bit bigger\n",
    "\n",
    "from tensorflow import keras\n",
    "from keras.datasets import mnist\n",
    "from keras.models import Sequential\n",
    "from keras.layers.core import Dense, Dropout, Activation\n",
    "from keras.utils import np_utils\n",
    "\n",
    "from sklearn.model_selection import train_test_split\n",
    "\n",
    "import os"
   ]
  },
  {
   "cell_type": "code",
   "execution_count": 38,
   "metadata": {},
   "outputs": [],
   "source": [
    "class ShowLearning(keras.callbacks.Callback):\n",
    "    def __init__(self, data, masks, name):\n",
    "        self.data = data\n",
    "        self.masks = masks\n",
    "        self.fig_path = f\"lung/figs/{name}\"\n",
    "        if not os.path.exists(self.fig_path):\n",
    "            os.makedirs(self.fig_path)\n",
    "        super().__init__()"
   ]
  },
  {
   "cell_type": "code",
   "execution_count": 39,
   "metadata": {},
   "outputs": [
    {
     "name": "stdout",
     "output_type": "stream",
     "text": [
      "X_train original shape (60000, 28, 28, 1)\n",
      "y_train original shape (60000,)\n"
     ]
    }
   ],
   "source": [
    "nb_classes = 10;\n",
    "\n",
    "(X_train, y_train), (X_test, y_test) = mnist.load_data()\n",
    "\n",
    "X_val, X_test, y_val, y_test = train_test_split(X_test, y_test, test_size = 0.5)\n",
    "\n",
    "X_train.shape = (60000, 28, 28, 1)\n",
    "X_val.shape = (5000, 28, 28, 1)\n",
    "\n",
    "print(\"X_train original shape\", X_train.shape)\n",
    "print(\"y_train original shape\", y_train.shape)"
   ]
  },
  {
   "cell_type": "code",
   "execution_count": 40,
   "metadata": {},
   "outputs": [
    {
     "data": {
      "image/png": "[encoded data removed]",
      "text/plain": [
       "<Figure size 504x504 with 16 Axes>"
      ]
     },
     "metadata": {
      "needs_background": "light"
     },
     "output_type": "display_data"
    }
   ],
   "source": [
    "for i in range(16):\n",
    "    plt.subplot(4,4,i+1)\n",
    "    plt.imshow(X_train[i], cmap='gray', interpolation='none')\n",
    "    plt.title(\"Class {}\".format(y_train[i]))"
   ]
  },
  {
   "cell_type": "code",
   "execution_count": 41,
   "metadata": {},
   "outputs": [],
   "source": [
    "from tensorflow.keras.layers import Conv2D, concatenate, MaxPool2D, UpSampling2D, Flatten\n",
    "\n",
    "from tensorflow.keras.losses import BinaryCrossentropy, CategoricalCrossentropy, SparseCategoricalCrossentropy\n",
    "\n",
    "from tensorflow import optimizers"
   ]
  },
  {
   "cell_type": "code",
   "execution_count": 42,
   "metadata": {},
   "outputs": [],
   "source": [
    "num_classes = 10\n",
    "y_train = keras.utils.to_categorical(y_train, num_classes)\n",
    "y_test = keras.utils.to_categorical(y_test, num_classes)\n",
    "y_val = keras.utils.to_categorical(y_val, num_classes)"
   ]
  },
  {
   "cell_type": "code",
   "execution_count": 43,
   "metadata": {},
   "outputs": [
    {
     "data": {
      "text/plain": [
       "TensorShape([None, 10])"
      ]
     },
     "execution_count": 43,
     "metadata": {},
     "output_type": "execute_result"
    }
   ],
   "source": [
    "def SimpleConvModel():\n",
    "    model = Sequential( ## sequential --> no going back through other layers\n",
    "        [\n",
    "            Conv2D(filters = 16, kernel_size = 3, input_shape=(28,28,1), strides = 1, padding='same', activation='relu'), ## relu makes any negative output zero\n",
    "\n",
    "            Conv2D(filters = 32, kernel_size = 3, strides = 1, padding='same', activation='relu'),\n",
    "\n",
    "            Conv2D(filters = 16, kernel_size = 3, strides = 1, padding='same', activation='relu'),\n",
    "            \n",
    "            Flatten(),\n",
    "\n",
    "            Dense(10, activation=\"sigmoid\"),\n",
    "        ]\n",
    "    ) \n",
    "    return model\n",
    "\n",
    "model = SimpleConvModel()\n",
    "\n",
    "model.output.shape"
   ]
  },
  {
   "cell_type": "code",
   "execution_count": 44,
   "metadata": {},
   "outputs": [
    {
     "name": "stdout",
     "output_type": "stream",
     "text": [
      "Epoch 1/2\n",
      "1875/1875 [==============================] - 148s 79ms/step - loss: 0.2161 - accuracy: 0.9481 - val_loss: 0.0752 - val_accuracy: 0.9768\n",
      "Epoch 2/2\n",
      "1875/1875 [==============================] - 135s 72ms/step - loss: 0.0549 - accuracy: 0.9834 - val_loss: 0.0631 - val_accuracy: 0.9812\n"
     ]
    }
   ],
   "source": [
    "EPOCHS = 2\n",
    "\n",
    "def train(model, x, y, X_val, y_val, loss, name, epochs):\n",
    "    optimizer = optimizers.Adam(learning_rate=0.0003)\n",
    "    model.compile(optimizer=optimizer, loss=loss, metrics=[\"accuracy\"])\n",
    "    model.fit(x, y, epochs=epochs, validation_data=(X_val, y_val), callbacks=[ShowLearning(x, y, name)],)\n",
    "\n",
    "train(model, X_train, y_train, X_val, y_val, CategoricalCrossentropy(), 'simple_conv', EPOCHS)"
   ]
  },
  {
   "cell_type": "code",
   "execution_count": null,
   "metadata": {},
   "outputs": [],
   "source": []
  },
  {
   "cell_type": "code",
   "execution_count": null,
   "metadata": {},
   "outputs": [],
   "source": []
  }
 ],
 "metadata": {
  "kernelspec": {
   "display_name": "Python 3",
   "language": "python",
   "name": "python3"
  },
  "language_info": {
   "codemirror_mode": {
    "name": "ipython",
    "version": 3
   },
   "file_extension": ".py",
   "mimetype": "text/x-python",
   "name": "python",
   "nbconvert_exporter": "python",
   "pygments_lexer": "ipython3",
   "version": "3.6.13"
  }
 },
 "nbformat": 4,
 "nbformat_minor": 4
}
